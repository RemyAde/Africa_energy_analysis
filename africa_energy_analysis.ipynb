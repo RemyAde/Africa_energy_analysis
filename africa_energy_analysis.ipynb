{
 "cells": [
  {
   "cell_type": "code",
   "execution_count": 1,
   "metadata": {},
   "outputs": [],
   "source": [
    "# libraries\n",
    "import pandas as pd\n",
    "import numpy as np\n",
    "import seaborn as sns\n",
    "import matplotlib.pyplot as plt\n",
    "\n",
    "%matplotlib inline"
   ]
  },
  {
   "cell_type": "code",
   "execution_count": 2,
   "metadata": {},
   "outputs": [],
   "source": [
    "# making dataframe from UN Energy data\n",
    "all_countries_df = pd.read_csv(\"resources/UNdata_Energy_PowerPlant.csv\")\n",
    "\n",
    "# making datafram from scrapped african nations\n",
    "african_countries_df = pd.read_csv(\"resources/african_nations.csv\")"
   ]
  },
  {
   "cell_type": "code",
   "execution_count": 3,
   "metadata": {},
   "outputs": [
    {
     "name": "stdout",
     "output_type": "stream",
     "text": [
      "<class 'pandas.core.frame.DataFrame'>\n",
      "RangeIndex: 65990 entries, 0 to 65989\n",
      "Data columns (total 6 columns):\n",
      " #   Column                   Non-Null Count  Dtype  \n",
      "---  ------                   --------------  -----  \n",
      " 0   Country or Area          65990 non-null  object \n",
      " 1   Commodity - Transaction  65990 non-null  object \n",
      " 2   Year                     65988 non-null  float64\n",
      " 3   Unit                     65988 non-null  object \n",
      " 4   Quantity                 65988 non-null  float64\n",
      " 5   Quantity Footnotes       16029 non-null  float64\n",
      "dtypes: float64(3), object(3)\n",
      "memory usage: 3.0+ MB\n",
      "All nations:  None\n",
      "<class 'pandas.core.frame.DataFrame'>\n",
      "RangeIndex: 54 entries, 0 to 53\n",
      "Data columns (total 1 columns):\n",
      " #   Column   Non-Null Count  Dtype \n",
      "---  ------   --------------  ----- \n",
      " 0   Country  54 non-null     object\n",
      "dtypes: object(1)\n",
      "memory usage: 560.0+ bytes\n",
      "African nations:  None\n"
     ]
    }
   ],
   "source": [
    "print(\"All nations: \", all_countries_df.info())\n",
    "print(\"African nations: \", african_countries_df.info())"
   ]
  },
  {
   "cell_type": "code",
   "execution_count": null,
   "metadata": {},
   "outputs": [],
   "source": []
  }
 ],
 "metadata": {
  "kernelspec": {
   "display_name": "Python 3.9.7 ('base')",
   "language": "python",
   "name": "python3"
  },
  "language_info": {
   "codemirror_mode": {
    "name": "ipython",
    "version": 3
   },
   "file_extension": ".py",
   "mimetype": "text/x-python",
   "name": "python",
   "nbconvert_exporter": "python",
   "pygments_lexer": "ipython3",
   "version": "3.9.7"
  },
  "orig_nbformat": 4,
  "vscode": {
   "interpreter": {
    "hash": "e8a0bcc7155301a1b9a2467b12422c3f6af08f2ccf10c3830d1459b6ba0f78cc"
   }
  }
 },
 "nbformat": 4,
 "nbformat_minor": 2
}
