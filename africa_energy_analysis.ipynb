{
 "cells": [
  {
   "cell_type": "code",
   "execution_count": null,
   "metadata": {},
   "outputs": [],
   "source": [
    "# libraries\n",
    "import pandas as pd\n",
    "import numpy as np\n",
    "import seaborn as sns\n",
    "import matplotlib.pyplot as plt\n",
    "\n",
    "%matplotlib inline"
   ]
  },
  {
   "cell_type": "code",
   "execution_count": null,
   "metadata": {},
   "outputs": [],
   "source": [
    "# making dataframe from UN Energy data\n",
    "all_countries_df = pd.read_csv(\"resources/UNdata_Energy_PowerPlant.csv\")\n",
    "\n",
    "# making dataframe from scrapped african nations\n",
    "african_countries_df = pd.read_csv(\"resources/african_nations.csv\")"
   ]
  },
  {
   "cell_type": "code",
   "execution_count": null,
   "metadata": {},
   "outputs": [],
   "source": [
    "print(\"All nations: \", all_countries_df.info())\n",
    "print(\"African nations: \", african_countries_df.info())"
   ]
  },
  {
   "attachments": {},
   "cell_type": "markdown",
   "metadata": {},
   "source": [
    "### Cleaning Operations"
   ]
  },
  {
   "cell_type": "code",
   "execution_count": null,
   "metadata": {},
   "outputs": [],
   "source": [
    "## Dropping irelevant rows and columns\n",
    "all_countries_df.drop([65988, 65989], inplace=True) \n",
    "all_countries_df.drop(\"Quantity Footnotes\", axis=1, inplace=True)"
   ]
  },
  {
   "cell_type": "code",
   "execution_count": null,
   "metadata": {},
   "outputs": [],
   "source": [
    "# renaming column names for easier referencing\n",
    "all_countries_df.rename(columns={\"Country or Area\":\"country_or_area\", \"Commodity - Transaction\":\"commodity_transaction\", \"Year\":\"year\", \"Unit\":\"unit\", \"Quantity\":\"quantity\"}, inplace=True)"
   ]
  },
  {
   "cell_type": "code",
   "execution_count": null,
   "metadata": {},
   "outputs": [],
   "source": [
    "all_countries_df.head()"
   ]
  },
  {
   "cell_type": "code",
   "execution_count": null,
   "metadata": {},
   "outputs": [],
   "source": [
    "## preparing dataset for merge with all nations\n",
    "\n",
    "# renaming country column on african_countries_df\n",
    "african_countries_df.rename(columns={\"Country\":\"country_or_area\"}, inplace=True)"
   ]
  },
  {
   "cell_type": "code",
   "execution_count": null,
   "metadata": {},
   "outputs": [],
   "source": [
    "# renaming country names in general dataframe to match name in african nations df\n",
    "all_countries_df.country_or_area.replace({\"United Rep. of Tanzania\":\"Tanzania\", \"Dem. Rep. of the Congo\":\"DR Congo\", \n",
    "                                    \"Sao Tome and Principe\":\"Sao Tome & Principe\", \"Central African Rep.\":\"Central African Republic\"}, inplace=True)"
   ]
  },
  {
   "attachments": {},
   "cell_type": "markdown",
   "metadata": {},
   "source": [
    "#### Merging datasets"
   ]
  },
  {
   "cell_type": "code",
   "execution_count": null,
   "metadata": {},
   "outputs": [],
   "source": [
    "africa_plants = all_countries_df.merge(african_countries_df, on=\"country_or_area\")"
   ]
  },
  {
   "cell_type": "markdown",
   "metadata": {},
   "source": [
    "#### Verifying state of new dataset with further cleaning"
   ]
  },
  {
   "cell_type": "code",
   "execution_count": null,
   "metadata": {},
   "outputs": [],
   "source": [
    "print(africa_plants.info())"
   ]
  },
  {
   "cell_type": "code",
   "execution_count": null,
   "metadata": {},
   "outputs": [],
   "source": [
    "africa_plants.duplicated().sum()"
   ]
  },
  {
   "cell_type": "code",
   "execution_count": null,
   "metadata": {},
   "outputs": [],
   "source": [
    "africa_plants.describe()"
   ]
  },
  {
   "cell_type": "code",
   "execution_count": null,
   "metadata": {},
   "outputs": [],
   "source": [
    "# reformatting year column to workable string values\n",
    "\n",
    "africa_plants.year = africa_plants.year.astype(str)\n",
    "africa_plants.year = africa_plants.year.apply(lambda x: x.split('.')[0])"
   ]
  },
  {
   "cell_type": "markdown",
   "metadata": {},
   "source": [
    "<small>year column was converted to string instead of datetime column because incorrect years were obtained using datetime method</small>"
   ]
  },
  {
   "cell_type": "code",
   "execution_count": null,
   "metadata": {},
   "outputs": [],
   "source": [
    "# fixing solar entires\n",
    "africa_plants[\"commodity_transaction\"].replace({\"Electricity - net installed capacity of electric power plants public solar\":\n",
    "                                        \"Electricity - net installed capacity of electric power plants, public solar\"}, inplace=True)"
   ]
  },
  {
   "cell_type": "code",
   "execution_count": null,
   "metadata": {},
   "outputs": [],
   "source": [
    "# subsetting dataset of reported net capacity of plants\n",
    "africa_net_capacity_plants = africa_plants.copy()\n",
    "africa_net_capacity_plants = africa_net_capacity_plants[africa_net_capacity_plants.commodity_transaction.str.contains(\",\")]\n",
    "# only net capacity electric power plants contains commas in dataset"
   ]
  },
  {
   "cell_type": "code",
   "execution_count": null,
   "metadata": {},
   "outputs": [],
   "source": [
    "# getting fuel source used in power plants\n",
    "africa_net_capacity_plants.commodity_transaction = africa_net_capacity_plants.commodity_transaction.apply(lambda x:x.split(',')[1])"
   ]
  },
  {
   "cell_type": "code",
   "execution_count": null,
   "metadata": {},
   "outputs": [],
   "source": [
    "# unique energy sources\n",
    "africa_net_capacity_plants.commodity_transaction.unique()"
   ]
  },
  {
   "cell_type": "code",
   "execution_count": null,
   "metadata": {},
   "outputs": [],
   "source": [
    "# removing space before actual value\n",
    "africa_net_capacity_plants.commodity_transaction = africa_net_capacity_plants.commodity_transaction.apply(lambda x:x[1:])"
   ]
  },
  {
   "cell_type": "code",
   "execution_count": null,
   "metadata": {},
   "outputs": [],
   "source": [
    "# merging same fuel sources even if they are of public or private generation, exempting self-producing plants, however.\n",
    "\n",
    "africa_net_capacity_plants.commodity_transaction.replace({\"public combustible fuels\":\"combustible fuels\", \n",
    "                                        \"public hydro\":\"hydro\", \"public wind\":\"wind\", \"public nuclear\":\"nuclear\", \n",
    "                                        \"public geothermal\":\"geothermal\", \"public solar\":\"solar\"}, inplace=True)"
   ]
  },
  {
   "cell_type": "markdown",
   "metadata": {},
   "source": [
    "<small>Before merging of fuels I discovered that same fuel sources had duplicated records. Merging the fuels revealed this abnormally</small>"
   ]
  },
  {
   "cell_type": "code",
   "execution_count": null,
   "metadata": {},
   "outputs": [],
   "source": [
    "africa_net_capacity_plants.duplicated().sum()"
   ]
  },
  {
   "cell_type": "code",
   "execution_count": null,
   "metadata": {},
   "outputs": [],
   "source": [
    "# dropping duplicate records\n",
    "africa_net_capacity_plants.drop_duplicates(inplace=True)\n",
    "africa_net_capacity_plants.nunique()"
   ]
  },
  {
   "attachments": {},
   "cell_type": "markdown",
   "metadata": {},
   "source": [
    "### Univariate Plots"
   ]
  },
  {
   "attachments": {},
   "cell_type": "markdown",
   "metadata": {},
   "source": [
    "distribution of quantity"
   ]
  },
  {
   "cell_type": "code",
   "execution_count": null,
   "metadata": {},
   "outputs": [],
   "source": [
    "plt.figure(figsize=[14.70,8.27])\n",
    "\n",
    "plt.hist(data=africa_net_capacity_plants, x='quantity', bins=100)\n",
    "plt.xlabel('Quantity (kW, thousand)', fontdict={'fontsize':13})\n",
    "plt.yscale('log')\n",
    "plt.yticks([1e0, 3e0, 1e1, 3e1, 1e2, 3e2, 1e3, 3e3, 1e4], [1, 3, 10, 30, 100, 300, '1k', '3k', '10k'])\n",
    "\n",
    "plt.title(\"Frequency Distribution of Quantity\", fontdict={'fontsize':15})\n",
    "plt.show()"
   ]
  },
  {
   "attachments": {},
   "cell_type": "markdown",
   "metadata": {},
   "source": [
    "* The Quantity variable is of unimodal distribution\n",
    "* Most of the power plants have generation capacities between 0 (kW, thousand) to 10,000 (kW, thousand). "
   ]
  },
  {
   "cell_type": "code",
   "execution_count": null,
   "metadata": {},
   "outputs": [],
   "source": [
    "plt.figure(figsize=[14.70,8.27])\n",
    "\n",
    "plt.hist(data=africa_net_capacity_plants, x='quantity', bins=100)\n",
    "plt.xlabel('Quantity (kW, thousand)', fontdict={'fontsize':13})\n",
    "plt.yscale('log')\n",
    "plt.yticks([1e0, 3e0, 1e1, 3e1, 1e2, 3e2, 1e3, 3e3, 1e4], [1, 3, 10, 30, 100, 300, '1k', '3k', '10k'])\n",
    "plt.xscale('log')\n",
    "plt.xticks([1e0, 2e0, 5e0, 1e1, 2e1, 5e1, 1e2, 2e2, 5e2, 1e3, 2e3, 5e3, 1e4, 2e4, 5e4, 1e5], \n",
    "            [1, 2, 5, 10, 20, 50, 100, 200, 500, '1k', '2k', '5k', '10k', '20k', '50k', '100k'])\n",
    "\n",
    "plt.title(\"Frequency Distribution of Quantity\", fontdict={'fontsize':15})\n",
    "plt.show()"
   ]
  },
  {
   "attachments": {},
   "cell_type": "markdown",
   "metadata": {},
   "source": [
    "* Closer looks reveals plants delivering capacities of 0 (kW, thousand) to >500 (kW, thousand) are of the modal class, there is a steep down and steady decline afterwards"
   ]
  },
  {
   "cell_type": "code",
   "execution_count": null,
   "metadata": {},
   "outputs": [],
   "source": [
    "# general_plants df stripped of self-producer, autoproducer & main activity commodities\n",
    "general_plants = africa_net_capacity_plants[~(africa_net_capacity_plants.commodity_transaction.str.contains(\"self-producer|autoproducer|main\"))]"
   ]
  },
  {
   "cell_type": "code",
   "execution_count": null,
   "metadata": {},
   "outputs": [],
   "source": [
    "general_plants.commodity_transaction.value_counts()"
   ]
  },
  {
   "cell_type": "code",
   "execution_count": null,
   "metadata": {},
   "outputs": [],
   "source": [
    "# countplot of energy sources\n",
    "plt.figure(figsize=[14.70, 8.27])\n",
    "# sns.countplot(x='commodity_transaction', data=general_plants, color=sns.color_palette()[0])\n",
    "general_plants.commodity_transaction.value_counts(ascending=False).plot.bar()\n",
    "plt.xticks(rotation=0)\n",
    "plt.show()"
   ]
  },
  {
   "attachments": {},
   "cell_type": "markdown",
   "metadata": {},
   "source": [
    "* Combustible fuels power plants are the most numerous on the continent, followed by Hydro which makes sense seeing those are the technologies, she started with."
   ]
  },
  {
   "attachments": {},
   "cell_type": "markdown",
   "metadata": {},
   "source": [
    "### Bivariate Plots"
   ]
  },
  {
   "cell_type": "code",
   "execution_count": null,
   "metadata": {},
   "outputs": [],
   "source": [
    "# Plants vs. Quantity\n",
    "plt.figure(figsize=[14.70, 8.27])\n",
    "\n",
    "sns.barplot(x='quantity', y='commodity_transaction', data=africa_net_capacity_plants, \n",
    "            color=sns.color_palette()[0], order=africa_net_capacity_plants.commodity_transaction.value_counts(ascending=False).index)\n",
    "plt.show()"
   ]
  },
  {
   "cell_type": "code",
   "execution_count": null,
   "metadata": {},
   "outputs": [],
   "source": [
    "# Quantity vs. Fuels\n",
    "plt.figure(figsize=[14.70, 8.27])\n",
    "sns.barplot(data=general_plants, x='commodity_transaction', y='quantity', color=sns.color_palette()[0], order=general_plants.commodity_transaction.value_counts(ascending=False).index)\n",
    "\n",
    "plt.show()"
   ]
  },
  {
   "attachments": {},
   "cell_type": "markdown",
   "metadata": {},
   "source": [
    "<small>\n",
    "Observation:\n",
    "<ul>\n",
    "<li>Main activity plants and a combination of main activity and autoproducer plants make up highest electricity productions,\n",
    "but sadly, energy source used isn't specified</li>\n",
    "<li>Nuclear and combustibles make the highest productions for known sources</li>\n",
    "</ul>\n",
    "</small>"
   ]
  },
  {
   "attachments": {},
   "cell_type": "markdown",
   "metadata": {},
   "source": [
    "### Multivariate Explorations"
   ]
  },
  {
   "attachments": {},
   "cell_type": "markdown",
   "metadata": {},
   "source": [
    "#### Functions"
   ]
  },
  {
   "cell_type": "code",
   "execution_count": null,
   "metadata": {},
   "outputs": [],
   "source": [
    "general_plants_years = general_plants.copy()\n",
    "\n",
    "def sum_quantity(year, type, old_df):\n",
    "    \"\"\"\n",
    "    creates a new_df from specified year of old_df\n",
    "    sums the quantity for every commodity_transaction for that particular year\n",
    "    \"\"\"\n",
    "    new_df = old_df.query(\"year == @year\")\n",
    "    if type == \"commodity\":\n",
    "        new_df = new_df.groupby(['year', 'commodity_transaction']).sum()['quantity'].reset_index()\n",
    "    elif type == \"country\":\n",
    "        new_df = new_df.groupby(['year', 'country_or_area']).sum()['quantity'].reset_index()\n",
    "        \n",
    "    return new_df"
   ]
  },
  {
   "cell_type": "code",
   "execution_count": null,
   "metadata": {},
   "outputs": [],
   "source": [
    "def create_year_dfs(df, type):\n",
    "    \"\"\"\n",
    "    creates a list of plants years 1990-2020 with an interval year of 3 all from df\n",
    "    df: dataframe containing data on commodity_transaction from 1990-2020\n",
    "    \"\"\"\n",
    "    plants_list = []\n",
    "    year = 1990\n",
    "    for i in range(11):\n",
    "        new_plant = sum_quantity(type=type, year=str(year), old_df = df)\n",
    "        year += 3\n",
    "        plants_list.append(new_plant)\n",
    "    return plants_list"
   ]
  },
  {
   "cell_type": "code",
   "execution_count": null,
   "metadata": {},
   "outputs": [],
   "source": [
    "plant_year_list = create_year_dfs(df=general_plants, type=\"commodity\")\n",
    "\n",
    "plants_year_dist = pd.concat(plant_year_list, ignore_index=True)"
   ]
  },
  {
   "cell_type": "code",
   "execution_count": null,
   "metadata": {},
   "outputs": [],
   "source": [
    "plants_year_dist.sample(7)"
   ]
  },
  {
   "attachments": {},
   "cell_type": "markdown",
   "metadata": {},
   "source": [
    "#### Plots"
   ]
  },
  {
   "cell_type": "code",
   "execution_count": null,
   "metadata": {},
   "outputs": [],
   "source": [
    "# quantity trend of energy plants\n",
    "\n",
    "plt.figure(figsize=[14.70, 8.27])\n",
    "plt.style.use('seaborn-whitegrid')\n",
    "sns.lineplot(\n",
    "    x='year',\n",
    "    y='quantity',\n",
    "    hue='commodity_transaction',\n",
    "    palette= 'bright',\n",
    "    style='commodity_transaction',\n",
    "    markers=True,\n",
    "    dashes=False,\n",
    "    data=plants_year_dist\n",
    ")\n",
    "\n",
    "plt.yscale('log')\n",
    "plt.yticks([3e0, 1e1, 3e1, 1e2, 3e2, 1e3, 3e3, 1e4, 3e4, 1e5, 3e5], \n",
    "            [3, 10, 30, 100, 300, 1000, 3000, '10K', '30K', '100K', '300K']);\n",
    "plt.ylim([0.1e1, 5e5])\n",
    "plt.legend(title='Fuels')\n",
    "plt.show()"
   ]
  },
  {
   "cell_type": "code",
   "execution_count": null,
   "metadata": {},
   "outputs": [],
   "source": [
    "self_producer_plants  = africa_net_capacity_plants[africa_net_capacity_plants.commodity_transaction.str.contains(\"self\")]\n",
    "self_producer_plants.commodity_transaction.value_counts()"
   ]
  },
  {
   "cell_type": "code",
   "execution_count": null,
   "metadata": {},
   "outputs": [],
   "source": [
    "sp_plant_year_list = create_year_dfs(df=self_producer_plants, type=\"commodity\")\n",
    "sp_plants_year_dist = pd.concat(sp_plant_year_list, ignore_index=True)"
   ]
  },
  {
   "cell_type": "code",
   "execution_count": null,
   "metadata": {},
   "outputs": [],
   "source": [
    "# quantity trend of self-producer plants\n",
    "plt.figure(figsize=[14.70, 8.27])\n",
    "plt.style.use('seaborn-whitegrid')\n",
    "sns.lineplot(\n",
    "    x='year',\n",
    "    y='quantity',\n",
    "    hue='commodity_transaction',\n",
    "    palette= 'bright',\n",
    "    style='commodity_transaction',\n",
    "    markers=True,\n",
    "    dashes=False,\n",
    "    data=sp_plants_year_dist\n",
    ")\n",
    "\n",
    "plt.yscale('log')\n",
    "plt.yticks([1e0, 2e0, 5e0, 1e1, 2e1, 5e1, 1e2, 2e2, 5e2, 1e3, 2e3, 5e3, 1e4, 2e4], \n",
    "            [1, 2, 5, 10, 20, 50, 100, 200, 500, '1k', '2k', '5k', '10k', '20k']);\n",
    "# plt.ylim([0.1e1, 5e5])\n",
    "plt.legend(['combustible fuels', 'hydro', 'geothermal', 'solar', 'wind'], title='Fuels', loc=4, fontsize=12)\n",
    "plt.show()"
   ]
  },
  {
   "attachments": {},
   "cell_type": "markdown",
   "metadata": {},
   "source": [
    "### Exploration of Africa's Top 5 (GDP)"
   ]
  },
  {
   "cell_type": "code",
   "execution_count": null,
   "metadata": {},
   "outputs": [],
   "source": [
    "# subsetting top 5 nations\n",
    "top5_gdp = general_plants[general_plants.country_or_area.str.contains(\"Nigeria|Egypt|South Africa|Algeria|Morocco\")]"
   ]
  },
  {
   "cell_type": "code",
   "execution_count": null,
   "metadata": {},
   "outputs": [],
   "source": [
    "# getting records from 1990 - 2020 with interval of 3 years\n",
    "top5_gdp_plant_list = create_year_dfs(df=top5_gdp, type=\"country\")"
   ]
  },
  {
   "cell_type": "code",
   "execution_count": null,
   "metadata": {},
   "outputs": [],
   "source": [
    "# joining year records\n",
    "top5_gdp_year_dist = pd.concat(top5_gdp_plant_list, ignore_index=True)\n",
    "top5_gdp_year_dist.head()"
   ]
  },
  {
   "cell_type": "markdown",
   "metadata": {},
   "source": [
    "#### Plots"
   ]
  },
  {
   "cell_type": "code",
   "execution_count": null,
   "metadata": {},
   "outputs": [],
   "source": [
    "# quantity trend of energy plants in africa's top 5\n",
    "plt.figure(figsize=[14.70, 8.27])\n",
    "plt.style.use('seaborn-whitegrid')\n",
    "sns.lineplot(\n",
    "    x='year',\n",
    "    y='quantity',\n",
    "    hue='country_or_area',\n",
    "    palette= 'bright',\n",
    "    style='country_or_area',\n",
    "    markers=True,\n",
    "    dashes=False,\n",
    "    data=top5_gdp_year_dist\n",
    ")\n",
    "\n",
    "plt.yscale('log')\n",
    "plt.yticks([1e3, 2e3, 5e3, 1e4, 2e4, 5e4, 1e5, 2e5], \n",
    "            ['1k', '2k', '5k', '10k', '20k', '50k', '100k', '200k']);\n",
    "plt.ylim([2.5e3, 2e5])\n",
    "plt.legend(title='Country')\n",
    "plt.show()"
   ]
  },
  {
   "cell_type": "code",
   "execution_count": null,
   "metadata": {},
   "outputs": [],
   "source": [
    "# records of top 5 from 1990-2019\n",
    "top5_gdp_total_quantities = top5_gdp.query(\"year >='1990' and year <='2019'\")\n",
    "# excluded year 2020 because only Egypt has records for that year\n",
    "\n",
    "# dataset of total quantity of all energy plants in the top 5\n",
    "top5_gdp_total_quantities = top5_gdp_total_quantities.groupby(['country_or_area']).sum()['quantity'].reset_index()"
   ]
  },
  {
   "cell_type": "code",
   "execution_count": null,
   "metadata": {},
   "outputs": [],
   "source": [
    "# total quantity vs. country\n",
    "plt.figure(figsize=[14.70, 8.27])\n",
    "\n",
    "plt.bar(x='country_or_area', height='quantity', data=top5_gdp_total_quantities)\n",
    "plt.xlabel(\"Country\", fontsize=13)\n",
    "plt.xticks(fontsize=11)\n",
    "plt.ylabel(\"Quantity (kW, thousand)\", fontsize=13)\n",
    "plt.yticks([5e5, 1e6, 1.5e6, 2e6, 2.5e6], ['500k', '1m', '1.5m', '2m', '2.5m'], fontsize=11)\n",
    "plt.title(\"Total Net Generated Electricity from Plants in Africa's Top 5 (GDP)\", fontsize=15)\n",
    "plt.show()"
   ]
  },
  {
   "cell_type": "code",
   "execution_count": null,
   "metadata": {},
   "outputs": [],
   "source": [
    "# records of top 5 from 1990-2019\n",
    "top5_gdp_mean_quantity = top5_gdp.query(\"year >='1990' and year <='2019'\")\n",
    "# excluded year 2020 because only Egypt has records for that year\n",
    "\n",
    "# dataset of total number of plants and average quantity in the top 5\n",
    "top5_gdp_mean_quantity = top5_gdp_mean_quantity.groupby('country_or_area') \\\n",
    "       .agg(count=('country_or_area', 'size'), avg_quantity=('quantity', 'mean')) \\\n",
    "       .reset_index()"
   ]
  },
  {
   "cell_type": "code",
   "execution_count": null,
   "metadata": {},
   "outputs": [],
   "source": [
    "# avg_quantity/no._of_plants vs. country\n",
    "ax = top5_gdp_mean_quantity.plot(x='country_or_area', y=['avg_quantity', 'count'], kind=\"bar\", figsize=[14.70, 8.27], colormap='coolwarm')\n",
    "for container in ax.containers:\n",
    "    ax.bar_label(container, padding=5, fontsize=12)\n",
    "\n",
    "plt.xticks(rotation=0, fontsize=12)\n",
    "plt.xlabel(\"Country\", fontsize=13)\n",
    "\n",
    "plt.yscale('log')\n",
    "plt.yticks([1e2, 2e2, 5e2, 1e3, 2e3, 5e3, 1e4, 2e4], [100, 200, 500, '1k', '2k', '5k', '10k', '20k'], fontsize=11)\n",
    "\n",
    "plt.title(\"Average Net Electricty Generated and Number of Plants in Africa's Top 5 (GDP)\", fontsize=15)\n",
    "plt.legend([\"Avg. Quantity (kw, thousand)\", \"No. of Plants\"], fontsize=12)\n",
    "\n",
    "plt.show()"
   ]
  },
  {
   "attachments": {},
   "cell_type": "markdown",
   "metadata": {},
   "source": [
    "Key Observations:\n",
    "* Algeria has the least amount of plants but better average generating capacity than Morocco and Nigeria\n",
    "* Nigeria and Morocco seems to have plants that are either smaller or less efficient compared with counterpart nations\n",
    "* South Africa seems to posses bigger or more efficient plants in their numbers, likewise Egypt, but with fewer plants"
   ]
  },
  {
   "cell_type": "code",
   "execution_count": null,
   "metadata": {},
   "outputs": [],
   "source": [
    "# pivot table of number of unique plants in the top 5\n",
    "top5_technologies = top5_gdp.groupby(['country_or_area', 'commodity_transaction']).size().reset_index().pivot(columns='commodity_transaction', index='country_or_area', values=0)"
   ]
  },
  {
   "cell_type": "code",
   "execution_count": null,
   "metadata": {},
   "outputs": [],
   "source": [
    "# num_of_plants/energy_sources vs. country\n",
    "my_cmap = sns.color_palette('deep', as_cmap=True)\n",
    "top5_technologies.plot(kind='bar', stacked=True, color=my_cmap, figsize=[14.70, 8.27]);\n",
    "plt.xlabel('Country', fontsize=13)\n",
    "plt.ylabel('Number of plants', fontsize=13);\n",
    "plt.xticks(rotation=0, fontsize=12);\n",
    "plt.yticks(fontsize=12)\n",
    "plt.title('Number of Energy Plants Employed by Africa\\'s Top 5 (GDP)', fontsize=15);\n",
    "plt.legend(title='Energy Sources', frameon=False, fontsize=12);\n",
    "sns.despine(bottom=True, left=True)"
   ]
  },
  {
   "cell_type": "markdown",
   "metadata": {},
   "source": [
    "Key Observations:\n",
    "* Combustible fuels have an all time high across all countries\n",
    "* Egypt and Morocco engage more in wind energy generation than counterpart nations\n",
    "* Nigeria has more hydro plants than counterpart nations with a number higher than her oil & gas plants\n",
    "* South Africa has done more work than in having a diversified energy mix than counterpart nations. Both its hydro and combustible fuels plants are roughly equal in number.\n",
    "* South Africa is the only nation with a Nuclear plant, with a number (30) rivaling energy plants of counterpart nations"
   ]
  },
  {
   "cell_type": "code",
   "execution_count": null,
   "metadata": {},
   "outputs": [],
   "source": [
    "# total capacity for technologies used in the top 5\n",
    "top5_powerplants_quantity = top5_gdp.groupby(['country_or_area', 'commodity_transaction']).sum()['quantity'].reset_index()\n"
   ]
  },
  {
   "cell_type": "code",
   "execution_count": null,
   "metadata": {},
   "outputs": [],
   "source": [
    "# capacities of unique plants in the top 5\n",
    "plt.figure(figsize=[14.70, 8.27])\n",
    "sns.barplot(data=top5_powerplants_quantity, x='country_or_area', y='quantity', hue='commodity_transaction');\n",
    "\n",
    "plt.yscale('log');\n",
    "plt.xlabel('Country', fontsize=13);\n",
    "plt.xticks(fontsize=12)\n",
    "\n",
    "plt.ylabel('Quantity (kW, thousand)', fontsize=13);\n",
    "plt.yticks([3e1, 1e2, 3e2, 1e3, 3e3, 1e4, 3e4, 1e5, 3e5, 1e6], \n",
    "            [30, 100, 300, 1000, 3000, '10K', '30K', '100K', '300K', '1M'], fontsize=12);\n",
    "\n",
    "plt.title('Total Net Electricty Generated by Africa\\'s Top 5 (GDP) Energy Sources', fontsize=15);\n",
    "# plt.legend(frameon=False, fontsize=12);\n",
    "plt.legend(bbox_to_anchor =(0.86, 0.75), title = \"Energy Sources\", frameon=False, fontsize=12);\n",
    "sns.despine(left=True, bottom=True)"
   ]
  },
  {
   "cell_type": "markdown",
   "metadata": {},
   "source": [
    "Key Observations: \n",
    "* Among the top 5, South Africa is the only country employing nuclear energy, which has productions higher than average as compared with other prominent technologies\n",
    "* South Africa seems to have an diversified energy mix almost in equal proportion save combustibles\n",
    "* Hydro technology apart from combustibles, seems to be the other source of generation the power economy the top 5's solidly relies on\n",
    "* Algeria and Nigeria seem to be the only one's in the top 5 using so little of wind energy"
   ]
  }
 ],
 "metadata": {
  "kernelspec": {
   "display_name": "Python 3.9.7 ('base')",
   "language": "python",
   "name": "python3"
  },
  "language_info": {
   "codemirror_mode": {
    "name": "ipython",
    "version": 3
   },
   "file_extension": ".py",
   "mimetype": "text/x-python",
   "name": "python",
   "nbconvert_exporter": "python",
   "pygments_lexer": "ipython3",
   "version": "3.9.7"
  },
  "orig_nbformat": 4,
  "vscode": {
   "interpreter": {
    "hash": "e8a0bcc7155301a1b9a2467b12422c3f6af08f2ccf10c3830d1459b6ba0f78cc"
   }
  }
 },
 "nbformat": 4,
 "nbformat_minor": 2
}
