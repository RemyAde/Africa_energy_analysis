{
 "cells": [
  {
   "cell_type": "code",
   "execution_count": 1,
   "metadata": {},
   "outputs": [],
   "source": [
    "# libraries\n",
    "import pandas as pd\n",
    "import numpy as np\n",
    "import seaborn as sns\n",
    "import matplotlib.pyplot as plt\n",
    "\n",
    "%matplotlib inline"
   ]
  },
  {
   "cell_type": "code",
   "execution_count": 2,
   "metadata": {},
   "outputs": [],
   "source": [
    "# making dataframe from UN Energy data\n",
    "all_countries_df = pd.read_csv(\"resources/UNdata_Energy_PowerPlant.csv\")\n",
    "\n",
    "# making dataframe from scrapped african nations\n",
    "african_countries_df = pd.read_csv(\"resources/african_nations.csv\")"
   ]
  },
  {
   "cell_type": "code",
   "execution_count": 3,
   "metadata": {},
   "outputs": [
    {
     "name": "stdout",
     "output_type": "stream",
     "text": [
      "<class 'pandas.core.frame.DataFrame'>\n",
      "RangeIndex: 65990 entries, 0 to 65989\n",
      "Data columns (total 6 columns):\n",
      " #   Column                   Non-Null Count  Dtype  \n",
      "---  ------                   --------------  -----  \n",
      " 0   Country or Area          65990 non-null  object \n",
      " 1   Commodity - Transaction  65990 non-null  object \n",
      " 2   Year                     65988 non-null  float64\n",
      " 3   Unit                     65988 non-null  object \n",
      " 4   Quantity                 65988 non-null  float64\n",
      " 5   Quantity Footnotes       16029 non-null  float64\n",
      "dtypes: float64(3), object(3)\n",
      "memory usage: 3.0+ MB\n",
      "All nations:  None\n",
      "<class 'pandas.core.frame.DataFrame'>\n",
      "RangeIndex: 54 entries, 0 to 53\n",
      "Data columns (total 1 columns):\n",
      " #   Column   Non-Null Count  Dtype \n",
      "---  ------   --------------  ----- \n",
      " 0   Country  54 non-null     object\n",
      "dtypes: object(1)\n",
      "memory usage: 560.0+ bytes\n",
      "African nations:  None\n"
     ]
    }
   ],
   "source": [
    "print(\"All nations: \", all_countries_df.info())\n",
    "print(\"African nations: \", african_countries_df.info())"
   ]
  },
  {
   "attachments": {},
   "cell_type": "markdown",
   "metadata": {},
   "source": [
    "### Cleaning Operations"
   ]
  },
  {
   "cell_type": "code",
   "execution_count": 4,
   "metadata": {},
   "outputs": [],
   "source": [
    "## Dropping irelevant rows and columns\n",
    "all_countries_df.drop([65988, 65989], inplace=True) \n",
    "all_countries_df.drop(\"Quantity Footnotes\", axis=1, inplace=True)"
   ]
  },
  {
   "cell_type": "code",
   "execution_count": 5,
   "metadata": {},
   "outputs": [],
   "source": [
    "# renaming column names for easier referencing\n",
    "all_countries_df.rename(columns={\"Country or Area\":\"country_or_area\", \"Commodity - Transaction\":\"commodity_transaction\", \"Year\":\"year\", \"Unit\":\"unit\", \"Quantity\":\"quantity\"}, inplace=True)"
   ]
  },
  {
   "cell_type": "code",
   "execution_count": 6,
   "metadata": {},
   "outputs": [
    {
     "data": {
      "text/html": [
       "<div>\n",
       "<style scoped>\n",
       "    .dataframe tbody tr th:only-of-type {\n",
       "        vertical-align: middle;\n",
       "    }\n",
       "\n",
       "    .dataframe tbody tr th {\n",
       "        vertical-align: top;\n",
       "    }\n",
       "\n",
       "    .dataframe thead th {\n",
       "        text-align: right;\n",
       "    }\n",
       "</style>\n",
       "<table border=\"1\" class=\"dataframe\">\n",
       "  <thead>\n",
       "    <tr style=\"text-align: right;\">\n",
       "      <th></th>\n",
       "      <th>country_or_area</th>\n",
       "      <th>commodity_transaction</th>\n",
       "      <th>year</th>\n",
       "      <th>unit</th>\n",
       "      <th>quantity</th>\n",
       "    </tr>\n",
       "  </thead>\n",
       "  <tbody>\n",
       "    <tr>\n",
       "      <th>0</th>\n",
       "      <td>Afghanistan</td>\n",
       "      <td>Electricity - total net installed capacity of ...</td>\n",
       "      <td>2020.0</td>\n",
       "      <td>Kilowatts,  thousand</td>\n",
       "      <td>537.0</td>\n",
       "    </tr>\n",
       "    <tr>\n",
       "      <th>1</th>\n",
       "      <td>Afghanistan</td>\n",
       "      <td>Electricity - total net installed capacity of ...</td>\n",
       "      <td>2019.0</td>\n",
       "      <td>Kilowatts,  thousand</td>\n",
       "      <td>531.0</td>\n",
       "    </tr>\n",
       "    <tr>\n",
       "      <th>2</th>\n",
       "      <td>Afghanistan</td>\n",
       "      <td>Electricity - total net installed capacity of ...</td>\n",
       "      <td>2018.0</td>\n",
       "      <td>Kilowatts,  thousand</td>\n",
       "      <td>519.0</td>\n",
       "    </tr>\n",
       "    <tr>\n",
       "      <th>3</th>\n",
       "      <td>Afghanistan</td>\n",
       "      <td>Electricity - total net installed capacity of ...</td>\n",
       "      <td>2017.0</td>\n",
       "      <td>Kilowatts,  thousand</td>\n",
       "      <td>519.0</td>\n",
       "    </tr>\n",
       "    <tr>\n",
       "      <th>4</th>\n",
       "      <td>Afghanistan</td>\n",
       "      <td>Electricity - total net installed capacity of ...</td>\n",
       "      <td>2016.0</td>\n",
       "      <td>Kilowatts,  thousand</td>\n",
       "      <td>519.0</td>\n",
       "    </tr>\n",
       "  </tbody>\n",
       "</table>\n",
       "</div>"
      ],
      "text/plain": [
       "  country_or_area                              commodity_transaction    year  \\\n",
       "0     Afghanistan  Electricity - total net installed capacity of ...  2020.0   \n",
       "1     Afghanistan  Electricity - total net installed capacity of ...  2019.0   \n",
       "2     Afghanistan  Electricity - total net installed capacity of ...  2018.0   \n",
       "3     Afghanistan  Electricity - total net installed capacity of ...  2017.0   \n",
       "4     Afghanistan  Electricity - total net installed capacity of ...  2016.0   \n",
       "\n",
       "                   unit  quantity  \n",
       "0  Kilowatts,  thousand     537.0  \n",
       "1  Kilowatts,  thousand     531.0  \n",
       "2  Kilowatts,  thousand     519.0  \n",
       "3  Kilowatts,  thousand     519.0  \n",
       "4  Kilowatts,  thousand     519.0  "
      ]
     },
     "execution_count": 6,
     "metadata": {},
     "output_type": "execute_result"
    }
   ],
   "source": [
    "all_countries_df.head()"
   ]
  },
  {
   "cell_type": "code",
   "execution_count": 7,
   "metadata": {},
   "outputs": [],
   "source": [
    "## preparing dataset for merge with all nations\n",
    "\n",
    "# renaming country column on african_countries_df\n",
    "african_countries_df.rename(columns={\"Country\":\"country_or_area\"}, inplace=True)"
   ]
  },
  {
   "cell_type": "code",
   "execution_count": 8,
   "metadata": {},
   "outputs": [],
   "source": [
    "# renaming country names in general dataframe to match name in african nations df\n",
    "all_countries_df.country_or_area.replace({\"United Rep. of Tanzania\":\"Tanzania\", \"Dem. Rep. of the Congo\":\"DR Congo\", \n",
    "                                    \"Sao Tome and Principe\":\"Sao Tome & Principe\", \"Central African Rep.\":\"Central African Republic\"}, inplace=True)"
   ]
  },
  {
   "attachments": {},
   "cell_type": "markdown",
   "metadata": {},
   "source": [
    "#### Merging datasets"
   ]
  },
  {
   "cell_type": "code",
   "execution_count": 9,
   "metadata": {},
   "outputs": [],
   "source": [
    "africa_plants = all_countries_df.merge(african_countries_df, on=\"country_or_area\")"
   ]
  },
  {
   "cell_type": "markdown",
   "metadata": {},
   "source": [
    "#### Verifying state of new dataset with further cleaning"
   ]
  },
  {
   "cell_type": "code",
   "execution_count": 10,
   "metadata": {},
   "outputs": [
    {
     "name": "stdout",
     "output_type": "stream",
     "text": [
      "<class 'pandas.core.frame.DataFrame'>\n",
      "Int64Index: 12969 entries, 0 to 12968\n",
      "Data columns (total 5 columns):\n",
      " #   Column                 Non-Null Count  Dtype  \n",
      "---  ------                 --------------  -----  \n",
      " 0   country_or_area        12969 non-null  object \n",
      " 1   commodity_transaction  12969 non-null  object \n",
      " 2   year                   12969 non-null  float64\n",
      " 3   unit                   12969 non-null  object \n",
      " 4   quantity               12969 non-null  float64\n",
      "dtypes: float64(2), object(3)\n",
      "memory usage: 607.9+ KB\n",
      "None\n"
     ]
    }
   ],
   "source": [
    "print(africa_plants.info())"
   ]
  },
  {
   "cell_type": "code",
   "execution_count": 12,
   "metadata": {},
   "outputs": [
    {
     "data": {
      "text/plain": [
       "0"
      ]
     },
     "execution_count": 12,
     "metadata": {},
     "output_type": "execute_result"
    }
   ],
   "source": [
    "africa_plants.duplicated().sum()"
   ]
  },
  {
   "cell_type": "code",
   "execution_count": 13,
   "metadata": {},
   "outputs": [
    {
     "data": {
      "text/html": [
       "<div>\n",
       "<style scoped>\n",
       "    .dataframe tbody tr th:only-of-type {\n",
       "        vertical-align: middle;\n",
       "    }\n",
       "\n",
       "    .dataframe tbody tr th {\n",
       "        vertical-align: top;\n",
       "    }\n",
       "\n",
       "    .dataframe thead th {\n",
       "        text-align: right;\n",
       "    }\n",
       "</style>\n",
       "<table border=\"1\" class=\"dataframe\">\n",
       "  <thead>\n",
       "    <tr style=\"text-align: right;\">\n",
       "      <th></th>\n",
       "      <th>year</th>\n",
       "      <th>quantity</th>\n",
       "    </tr>\n",
       "  </thead>\n",
       "  <tbody>\n",
       "    <tr>\n",
       "      <th>count</th>\n",
       "      <td>12969.000000</td>\n",
       "      <td>12969.000000</td>\n",
       "    </tr>\n",
       "    <tr>\n",
       "      <th>mean</th>\n",
       "      <td>2005.851261</td>\n",
       "      <td>1212.357545</td>\n",
       "    </tr>\n",
       "    <tr>\n",
       "      <th>std</th>\n",
       "      <td>8.822248</td>\n",
       "      <td>4771.924297</td>\n",
       "    </tr>\n",
       "    <tr>\n",
       "      <th>min</th>\n",
       "      <td>1990.000000</td>\n",
       "      <td>0.000000</td>\n",
       "    </tr>\n",
       "    <tr>\n",
       "      <th>25%</th>\n",
       "      <td>1998.000000</td>\n",
       "      <td>23.000000</td>\n",
       "    </tr>\n",
       "    <tr>\n",
       "      <th>50%</th>\n",
       "      <td>2007.000000</td>\n",
       "      <td>95.000000</td>\n",
       "    </tr>\n",
       "    <tr>\n",
       "      <th>75%</th>\n",
       "      <td>2014.000000</td>\n",
       "      <td>498.000000</td>\n",
       "    </tr>\n",
       "    <tr>\n",
       "      <th>max</th>\n",
       "      <td>2020.000000</td>\n",
       "      <td>59530.000000</td>\n",
       "    </tr>\n",
       "  </tbody>\n",
       "</table>\n",
       "</div>"
      ],
      "text/plain": [
       "               year      quantity\n",
       "count  12969.000000  12969.000000\n",
       "mean    2005.851261   1212.357545\n",
       "std        8.822248   4771.924297\n",
       "min     1990.000000      0.000000\n",
       "25%     1998.000000     23.000000\n",
       "50%     2007.000000     95.000000\n",
       "75%     2014.000000    498.000000\n",
       "max     2020.000000  59530.000000"
      ]
     },
     "execution_count": 13,
     "metadata": {},
     "output_type": "execute_result"
    }
   ],
   "source": [
    "africa_plants.describe()"
   ]
  },
  {
   "cell_type": "code",
   "execution_count": 14,
   "metadata": {},
   "outputs": [],
   "source": [
    "# reformatting year column to workable string values\n",
    "\n",
    "africa_plants.year = africa_plants.year.astype(str)\n",
    "africa_plants.year = africa_plants.year.apply(lambda x: x.split('.')[0])"
   ]
  },
  {
   "cell_type": "markdown",
   "metadata": {},
   "source": [
    "<small>year column was converted to string instead of datetime column because incorrect years were obtained using datetime method</small>"
   ]
  },
  {
   "cell_type": "code",
   "execution_count": 15,
   "metadata": {},
   "outputs": [],
   "source": [
    "# fixing solar entires\n",
    "africa_plants[\"commodity_transaction\"].replace({\"Electricity - net installed capacity of electric power plants public solar\":\n",
    "                                        \"Electricity - net installed capacity of electric power plants, public solar\"}, inplace=True)"
   ]
  },
  {
   "cell_type": "code",
   "execution_count": 16,
   "metadata": {},
   "outputs": [],
   "source": [
    "# subsetting dataset of reported net capacity of plants\n",
    "africa_net_capacity_plants = africa_plants.copy()\n",
    "africa_net_capacity_plants = africa_net_capacity_plants[africa_net_capacity_plants.commodity_transaction.str.contains(\",\")]\n",
    "# only net capacity electric power plants contains commas in dataset"
   ]
  },
  {
   "cell_type": "code",
   "execution_count": 17,
   "metadata": {},
   "outputs": [],
   "source": [
    "# getting fuel source used in power plants\n",
    "africa_net_capacity_plants.commodity_transaction = africa_net_capacity_plants.commodity_transaction.apply(lambda x:x.split(',')[1])"
   ]
  },
  {
   "cell_type": "code",
   "execution_count": 18,
   "metadata": {},
   "outputs": [
    {
     "data": {
      "text/plain": [
       "array([' main activity & autoproducer', ' hydro', ' public hydro',\n",
       "       ' combustible fuels', ' public combustible fuels',\n",
       "       ' self-producer combustible fuels', ' wind', ' public wind',\n",
       "       ' solar', ' public solar', ' main activity', ' autoproducer',\n",
       "       ' self-producer hydro', ' self-producer solar', ' geothermal',\n",
       "       ' public geothermal', ' self-producer geothermal',\n",
       "       ' self-producer wind', ' nuclear', ' public nuclear'], dtype=object)"
      ]
     },
     "execution_count": 18,
     "metadata": {},
     "output_type": "execute_result"
    }
   ],
   "source": [
    "# unique energy sources\n",
    "africa_net_capacity_plants.commodity_transaction.unique()"
   ]
  },
  {
   "cell_type": "code",
   "execution_count": 19,
   "metadata": {},
   "outputs": [],
   "source": [
    "# removing space before actual value\n",
    "africa_net_capacity_plants.commodity_transaction = africa_net_capacity_plants.commodity_transaction.apply(lambda x:x[1:])"
   ]
  },
  {
   "cell_type": "code",
   "execution_count": 20,
   "metadata": {},
   "outputs": [],
   "source": [
    "# merging same fuel sources even if they are of public or private generation, exempting self-producing plants, however.\n",
    "\n",
    "africa_net_capacity_plants.commodity_transaction.replace({\"public combustible fuels\":\"combustible fuels\", \n",
    "                                        \"public hydro\":\"hydro\", \"public wind\":\"wind\", \"public nuclear\":\"nuclear\", \n",
    "                                        \"public geothermal\":\"geothermal\", \"public solar\":\"solar\"}, inplace=True)"
   ]
  },
  {
   "cell_type": "markdown",
   "metadata": {},
   "source": [
    "<small>Before merging of fuels I discovered that same fuel sources had duplicated records. Merging the fuels revealed this abnormally</small>"
   ]
  },
  {
   "cell_type": "code",
   "execution_count": 21,
   "metadata": {},
   "outputs": [
    {
     "data": {
      "text/plain": [
       "1980"
      ]
     },
     "execution_count": 21,
     "metadata": {},
     "output_type": "execute_result"
    }
   ],
   "source": [
    "africa_net_capacity_plants.duplicated().sum()"
   ]
  },
  {
   "cell_type": "code",
   "execution_count": 22,
   "metadata": {},
   "outputs": [
    {
     "data": {
      "text/plain": [
       "country_or_area            54\n",
       "commodity_transaction      14\n",
       "year                       31\n",
       "unit                        1\n",
       "quantity                 2840\n",
       "dtype: int64"
      ]
     },
     "execution_count": 22,
     "metadata": {},
     "output_type": "execute_result"
    }
   ],
   "source": [
    "# dropping duplicate records\n",
    "africa_net_capacity_plants.drop_duplicates(inplace=True)\n",
    "africa_net_capacity_plants.nunique()"
   ]
  },
  {
   "attachments": {},
   "cell_type": "markdown",
   "metadata": {},
   "source": [
    "### Univariate Plots"
   ]
  },
  {
   "attachments": {},
   "cell_type": "markdown",
   "metadata": {},
   "source": [
    "distribution of quantity"
   ]
  },
  {
   "cell_type": "code",
   "execution_count": 23,
   "metadata": {},
   "outputs": [
    {
     "data": {
      "image/png": "[encoded data removed]",
      "text/plain": [
       "<Figure size 1058.4x595.44 with 1 Axes>"
      ]
     },
     "metadata": {
      "needs_background": "light"
     },
     "output_type": "display_data"
    }
   ],
   "source": [
    "plt.figure(figsize=[14.70,8.27])\n",
    "\n",
    "plt.hist(data=africa_net_capacity_plants, x='quantity', bins=100)\n",
    "plt.xlabel('Quantity (kW, thousand)', fontdict={'fontsize':13})\n",
    "plt.yscale('log')\n",
    "plt.yticks([1e0, 3e0, 1e1, 3e1, 1e2, 3e2, 1e3, 3e3, 1e4], [1, 3, 10, 30, 100, 300, '1k', '3k', '10k'])\n",
    "\n",
    "plt.title(\"Frequency Distribution of Quantity\", fontdict={'fontsize':15})\n",
    "plt.show()"
   ]
  },
  {
   "attachments": {},
   "cell_type": "markdown",
   "metadata": {},
   "source": [
    "* The Quantity variable is of unimodal distribution\n",
    "* Most of the power plants have generation capacities between 0 (kW, thousand) to 10,000 (kW, thousand). "
   ]
  },
  {
   "cell_type": "code",
   "execution_count": 24,
   "metadata": {},
   "outputs": [
    {
     "data": {
      "image/png": "[encoded data removed]",
      "text/plain": [
       "<Figure size 1058.4x595.44 with 1 Axes>"
      ]
     },
     "metadata": {
      "needs_background": "light"
     },
     "output_type": "display_data"
    }
   ],
   "source": [
    "plt.figure(figsize=[14.70,8.27])\n",
    "\n",
    "plt.hist(data=africa_net_capacity_plants, x='quantity', bins=100)\n",
    "plt.xlabel('Quantity (kW, thousand)', fontdict={'fontsize':13})\n",
    "plt.yscale('log')\n",
    "plt.yticks([1e0, 3e0, 1e1, 3e1, 1e2, 3e2, 1e3, 3e3, 1e4], [1, 3, 10, 30, 100, 300, '1k', '3k', '10k'])\n",
    "plt.xscale('log')\n",
    "plt.xticks([1e0, 2e0, 5e0, 1e1, 2e1, 5e1, 1e2, 2e2, 5e2, 1e3, 2e3, 5e3, 1e4, 2e4, 5e4, 1e5], \n",
    "            [1, 2, 5, 10, 20, 50, 100, 200, 500, '1k', '2k', '5k', '10k', '20k', '50k', '100k'])\n",
    "\n",
    "plt.title(\"Frequency Distribution of Quantity\", fontdict={'fontsize':15})\n",
    "plt.show()"
   ]
  },
  {
   "attachments": {},
   "cell_type": "markdown",
   "metadata": {},
   "source": [
    "* Closer looks reveals plants delivering capacities of 0 (kW, thousand) to >500 (kW, thousand) are of the modal class, there is a steep down and steady decline afterwards"
   ]
  },
  {
   "cell_type": "code",
   "execution_count": 25,
   "metadata": {},
   "outputs": [],
   "source": [
    "# general_plants df stripped of self-producer, autoproducer & main activity commodities\n",
    "general_plants = africa_net_capacity_plants[~(africa_net_capacity_plants.commodity_transaction.str.contains(\"self-producer|autoproducer|main\"))]"
   ]
  },
  {
   "cell_type": "code",
   "execution_count": 26,
   "metadata": {},
   "outputs": [
    {
     "data": {
      "text/plain": [
       "combustible fuels    2698\n",
       "hydro                1400\n",
       "solar                 489\n",
       "wind                  253\n",
       "geothermal             60\n",
       "nuclear                30\n",
       "Name: commodity_transaction, dtype: int64"
      ]
     },
     "execution_count": 26,
     "metadata": {},
     "output_type": "execute_result"
    }
   ],
   "source": [
    "general_plants.commodity_transaction.value_counts()"
   ]
  },
  {
   "cell_type": "code",
   "execution_count": 60,
   "metadata": {},
   "outputs": [
    {
     "data": {
      "image/png": "[encoded data removed]",
      "text/plain": [
       "<Figure size 1058.4x595.44 with 1 Axes>"
      ]
     },
     "metadata": {
      "needs_background": "light"
     },
     "output_type": "display_data"
    }
   ],
   "source": [
    "# countplot of energy sources\n",
    "plt.figure(figsize=[14.70, 8.27])\n",
    "# sns.countplot(x='commodity_transaction', data=general_plants, color=sns.color_palette()[0])\n",
    "general_plants.commodity_transaction.value_counts(ascending=False).plot.bar()\n",
    "plt.xticks(rotation=0)\n",
    "plt.show()"
   ]
  },
  {
   "attachments": {},
   "cell_type": "markdown",
   "metadata": {},
   "source": [
    "* Combustible fuels power plants are the most numerous on the continent, followed by Hydro which makes sense seeing those are the technologies, she started with."
   ]
  },
  {
   "attachments": {},
   "cell_type": "markdown",
   "metadata": {},
   "source": [
    "### Bivariate Plots"
   ]
  },
  {
   "cell_type": "code",
   "execution_count": 52,
   "metadata": {},
   "outputs": [
    {
     "data": {
      "image/png": "[encoded data removed]",
      "text/plain": [
       "<Figure size 1058.4x595.44 with 1 Axes>"
      ]
     },
     "metadata": {
      "needs_background": "light"
     },
     "output_type": "display_data"
    }
   ],
   "source": [
    "# Plants vs. Quantity\n",
    "plt.figure(figsize=[14.70, 8.27])\n",
    "\n",
    "sns.barplot(x='quantity', y='commodity_transaction', data=africa_net_capacity_plants, \n",
    "            color=sns.color_palette()[0], order=africa_net_capacity_plants.commodity_transaction.value_counts(ascending=False).index)\n",
    "plt.show()"
   ]
  },
  {
   "cell_type": "code",
   "execution_count": 49,
   "metadata": {},
   "outputs": [
    {
     "data": {
      "image/png": "[encoded data removed]",
      "text/plain": [
       "<Figure size 1058.4x595.44 with 1 Axes>"
      ]
     },
     "metadata": {
      "needs_background": "light"
     },
     "output_type": "display_data"
    }
   ],
   "source": [
    "# Quantity vs. Fuels\n",
    "plt.figure(figsize=[14.70, 8.27])\n",
    "sns.barplot(data=general_plants, x='commodity_transaction', y='quantity', color=sns.color_palette()[0], order=general_plants.commodity_transaction.value_counts(ascending=False).index)\n",
    "\n",
    "plt.show()"
   ]
  },
  {
   "attachments": {},
   "cell_type": "markdown",
   "metadata": {},
   "source": [
    "<small>\n",
    "Observation:\n",
    "<ul>\n",
    "<li>Main activity plants and a combination of main activity and autoproducer plants make up highest electricity productions,\n",
    "but sadly, energy source used isn't specified</li>\n",
    "<li>Nuclear and combustibles make the highest productions for known sources</li>\n",
    "</ul>\n",
    "</small>"
   ]
  },
  {
   "attachments": {},
   "cell_type": "markdown",
   "metadata": {},
   "source": [
    "### Multivariate Explorations"
   ]
  },
  {
   "attachments": {},
   "cell_type": "markdown",
   "metadata": {},
   "source": [
    "#### Functions"
   ]
  },
  {
   "cell_type": "code",
   "execution_count": null,
   "metadata": {},
   "outputs": [],
   "source": [
    "general_plants_years = general_plants.copy()\n",
    "\n",
    "def sum_quantity(year, type, old_df):\n",
    "    \"\"\"\n",
    "    creates a new_df from specified year of old_df\n",
    "    sums the quantity for every commodity_transaction for that particular year\n",
    "    \"\"\"\n",
    "    new_df = old_df.query(\"year == @year\")\n",
    "    if type == \"commodity\":\n",
    "        new_df = new_df.groupby(['year', 'commodity_transaction']).sum()['quantity'].reset_index()\n",
    "    elif type == \"country\":\n",
    "        new_df = new_df.groupby(['year', 'country_or_area']).sum()['quantity'].reset_index()\n",
    "        \n",
    "    return new_df"
   ]
  },
  {
   "cell_type": "code",
   "execution_count": null,
   "metadata": {},
   "outputs": [],
   "source": [
    "def create_year_dfs(df, type):\n",
    "    \"\"\"\n",
    "    creates a list of plants years 1990-2020 with an interval year of 3 all from df\n",
    "    df: dataframe containing data on commodity_transaction from 1990-2020\n",
    "    \"\"\"\n",
    "    plants_list = []\n",
    "    year = 1990\n",
    "    for i in range(11):\n",
    "        new_plant = sum_quantity(type=type, year=str(year), old_df = df)\n",
    "        year += 3\n",
    "        plants_list.append(new_plant)\n",
    "    return plants_list"
   ]
  }
 ],
 "metadata": {
  "kernelspec": {
   "display_name": "Python 3.9.7 ('base')",
   "language": "python",
   "name": "python3"
  },
  "language_info": {
   "codemirror_mode": {
    "name": "ipython",
    "version": 3
   },
   "file_extension": ".py",
   "mimetype": "text/x-python",
   "name": "python",
   "nbconvert_exporter": "python",
   "pygments_lexer": "ipython3",
   "version": "3.9.7"
  },
  "orig_nbformat": 4,
  "vscode": {
   "interpreter": {
    "hash": "e8a0bcc7155301a1b9a2467b12422c3f6af08f2ccf10c3830d1459b6ba0f78cc"
   }
  }
 },
 "nbformat": 4,
 "nbformat_minor": 2
}
